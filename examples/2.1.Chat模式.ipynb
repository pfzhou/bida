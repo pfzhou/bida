{
 "cells": [
  {
   "cell_type": "markdown",
   "metadata": {},
   "source": [
    "#### 2.1 调用Chat模式"
   ]
  },
  {
   "cell_type": "markdown",
   "metadata": {},
   "source": [
    "- 调用并打印回答内容："
   ]
  },
  {
   "cell_type": "code",
   "execution_count": 1,
   "metadata": {},
   "outputs": [
    {
     "name": "stdout",
     "output_type": "stream",
     "text": [
      "你好，我是文心一言，英文名是ERNIE Bot。我可以完成的任务包括知识问答，文本创作，知识推理，数学计算，代码理解与编写，作画，翻译等。\n"
     ]
    }
   ],
   "source": [
    "from bida import ChatLLM\n",
    "\n",
    "llm = ChatLLM(model_type='baidu')\n",
    "result = llm.chat(\"你好呀，请问你是谁？\") \n",
    "print(result)\n"
   ]
  },
  {
   "cell_type": "markdown",
   "metadata": {},
   "source": [
    "- 流式stream调用，实现打字机效果："
   ]
  },
  {
   "cell_type": "code",
   "execution_count": 2,
   "metadata": {},
   "outputs": [
    {
     "name": "stdout",
     "output_type": "stream",
     "text": [
      "你好，我是文心一言，英文名是ERNIE Bot。我可以完成的任务包括知识问答，文本创作，知识推理，数学计算，代码理解与编写，作画，翻译等。"
     ]
    }
   ],
   "source": [
    "from bida import ChatLLM\n",
    "\n",
    "# stream调用\n",
    "llm = ChatLLM(model_type=\"baidu\", stream_callback=ChatLLM.stream_callback_func)\n",
    "\n",
    "result = llm.chat(\"你好呀，请问你是谁？\")      "
   ]
  },
  {
   "cell_type": "markdown",
   "metadata": {},
   "source": [
    "- 迭代方式调用\n"
   ]
  },
  {
   "cell_type": "code",
   "execution_count": 4,
   "metadata": {},
   "outputs": [
    {
     "name": "stdout",
     "output_type": "stream",
     "text": [
      "你好，我没有特定的名字\n",
      "你好，我没有特定的名字。\n",
      "你好，我没有特定的名字。如果你有需要，可以随时给我起一个你喜欢的名字。\n"
     ]
    }
   ],
   "source": [
    "from bida import ChatLLM\n",
    "\n",
    "llm = ChatLLM(model_type='baidu')\n",
    "def callllm():\n",
    "    for partial_message in llm.achat(\"你好，请问你的名字是？\"):     # 默认为返回全量\n",
    "        yield partial_message\n",
    "for content in callllm():\n",
    "    print(content)"
   ]
  },
  {
   "cell_type": "code",
   "execution_count": 6,
   "metadata": {},
   "outputs": [
    {
     "name": "stdout",
     "output_type": "stream",
     "text": [
      "你好，我没有特定的名字。如果你有需要，可以随时给我起一个你喜欢的名字。"
     ]
    }
   ],
   "source": [
    "from bida import ChatLLM\n",
    "\n",
    "llm = ChatLLM(model_type='baidu')\n",
    "def callllm():\n",
    "    for partial_message in llm.achat(\"你好，请问你的名字是？\", increment=True):     # 改为增量返回\n",
    "        yield partial_message\n",
    "for content in callllm():\n",
    "    print(content, end=\"\", flush=True)"
   ]
  },
  {
   "cell_type": "markdown",
   "metadata": {},
   "source": [
    "- 更换调用的模型，使用非默认模型"
   ]
  },
  {
   "cell_type": "code",
   "execution_count": 3,
   "metadata": {},
   "outputs": [
    {
     "name": "stdout",
     "output_type": "stream",
     "text": [
      "您好，我是百度研发的知识增强大语言模型，中文名是文心一言，英文名是ERNIE Bot。我能够与人对话互动，回答问题，协助创作，高效便捷地帮助人们获取信息、知识和灵感。"
     ]
    }
   ],
   "source": [
    "\n",
    "from bida import ChatLLM\n",
    "\n",
    "llm = ChatLLM(\n",
    "    model_type=\"baidu\", \n",
    "    stream_callback=ChatLLM.stream_callback_func, \n",
    "    model_name=\"ernie-bot-turbo\"                # 更换到turbo模型\n",
    "    ) \n",
    "\n",
    "result = llm.chat(\"你是谁？\")"
   ]
  },
  {
   "cell_type": "markdown",
   "metadata": {},
   "source": [
    "- 多轮对话："
   ]
  },
  {
   "cell_type": "code",
   "execution_count": 2,
   "metadata": {},
   "outputs": [
    {
     "name": "stdout",
     "output_type": "stream",
     "text": [
      "好的，老周。请问有什么我可以帮助您的吗？"
     ]
    }
   ],
   "source": [
    "from bida import ChatLLM\n",
    "\n",
    "llm = ChatLLM(\n",
    "    model_type=\"baidu\",\n",
    "    stream_callback=ChatLLM.stream_callback_func) \n",
    "\n",
    "result = llm.chat(\"你是一个服务助理，请简洁回答我的问题。我的名字是老周，年龄30岁。\")"
   ]
  },
  {
   "cell_type": "code",
   "execution_count": 3,
   "metadata": {},
   "outputs": [
    {
     "name": "stdout",
     "output_type": "stream",
     "text": [
      "您告诉我您的名字是老周。如果您有任何需要帮助的地方，请随时告诉我。"
     ]
    }
   ],
   "source": [
    "result = llm.chat(\"我的名字是？\")"
   ]
  },
  {
   "cell_type": "code",
   "execution_count": 4,
   "metadata": {},
   "outputs": [
    {
     "name": "stdout",
     "output_type": "stream",
     "text": [
      "您告诉我您今年30岁。如果您有其他任何问题或者需要帮助，请随时告诉我，我将竭诚为您服务。"
     ]
    }
   ],
   "source": [
    "result = llm.chat(\"我多大了？\")"
   ]
  },
  {
   "cell_type": "code",
   "execution_count": 5,
   "metadata": {},
   "outputs": [
    {
     "data": {
      "text/plain": [
       "[{'role': 'user', 'content': '你是一个服务助理，请简洁回答我的问题。我的名字是老周，年龄30岁。'},\n",
       " {'role': 'assistant', 'content': '好的，老周。请问有什么我可以帮助您的吗？'},\n",
       " {'role': 'user', 'content': '我的名字是？'},\n",
       " {'role': 'assistant', 'content': '您告诉我您的名字是老周。如果您有任何需要帮助的地方，请随时告诉我。'},\n",
       " {'role': 'user', 'content': '我多大了？'},\n",
       " {'role': 'assistant',\n",
       "  'content': '您告诉我您今年30岁。如果您有其他任何问题或者需要帮助，请随时告诉我，我将竭诚为您服务。'}]"
      ]
     },
     "execution_count": 5,
     "metadata": {},
     "output_type": "execute_result"
    }
   ],
   "source": [
    "# 打印聊天历史\n",
    "llm.conversation.history_messages"
   ]
  },
  {
   "cell_type": "markdown",
   "metadata": {},
   "source": [
    "- 会话持久化"
   ]
  },
  {
   "cell_type": "code",
   "execution_count": 17,
   "metadata": {},
   "outputs": [
    {
     "name": "stdout",
     "output_type": "stream",
     "text": [
      "好的，老周。请问有什么我可以帮助您的吗？"
     ]
    }
   ],
   "source": [
    "from bida import ChatLLM\n",
    "\n",
    "llm = ChatLLM(\n",
    "    model_type=\"baidu\",\n",
    "    auto_save_conversation=True,    # 设为自动保存会话 \n",
    "    stream_callback=ChatLLM.stream_callback_func) \n",
    "\n",
    "result = llm.chat(\"你是一个服务助理，请简洁回答我的问题。我的名字是老周，年龄30岁。\")\n"
   ]
  },
  {
   "cell_type": "code",
   "execution_count": 18,
   "metadata": {},
   "outputs": [
    {
     "name": "stdout",
     "output_type": "stream",
     "text": [
      "1\n"
     ]
    },
    {
     "data": {
      "text/plain": [
       "[('7d920c2b-4916-4772-8650-d400269e3a48',\n",
       "  '你是一个服务助理，请简洁回答我的问题。我',\n",
       "  'baidu',\n",
       "  datetime.datetime(2023, 9, 9, 18, 28, 33, 260562))]"
      ]
     },
     "execution_count": 18,
     "metadata": {},
     "output_type": "execute_result"
    }
   ],
   "source": [
    "import duckdb\n",
    "conn = duckdb.connect('db/bida.db')\n",
    "\n",
    "sql_select_conversation = \"\"\"\n",
    "SELECT conversation_id, conversation_title, conversation_model_type, persist_time\n",
    "FROM conversation\n",
    "WHERE conversation_id = ?\n",
    "\"\"\"\n",
    "# 根据当前会话的ID查找数据库中的会话数据\n",
    "result = conn.execute(sql_select_conversation, (llm.conversation.conversation_id, )).fetchall()\n",
    "print(len(result))\n",
    "result"
   ]
  },
  {
   "cell_type": "code",
   "execution_count": 19,
   "metadata": {},
   "outputs": [
    {
     "name": "stdout",
     "output_type": "stream",
     "text": [
      "4\n"
     ]
    },
    {
     "data": {
      "text/plain": [
       "[('d120324b-dc82-4e53-ad69-5c6b046134da',\n",
       "  'user',\n",
       "  '你是一个服务助理，请简洁回答我的问题。我的名字是老周，年龄30岁。',\n",
       "  '你是一个服务助理，请简洁回答我的问题。我的名字是老周，年龄30岁。',\n",
       "  None,\n",
       "  None,\n",
       "  0,\n",
       "  datetime.datetime(2023, 9, 9, 18, 28, 31, 594385),\n",
       "  datetime.datetime(2023, 9, 9, 18, 28, 31, 594385),\n",
       "  'llm',\n",
       "  'processing',\n",
       "  None,\n",
       "  datetime.datetime(2023, 9, 9, 18, 28, 31, 594385),\n",
       "  '7d920c2b-4916-4772-8650-d400269e3a48'),\n",
       " ('d120324b-dc82-4e53-ad69-5c6b046134da',\n",
       "  'user',\n",
       "  '你是一个服务助理，请简洁回答我的问题。我的名字是老周，年龄30岁。',\n",
       "  '你是一个服务助理，请简洁回答我的问题。我的名字是老周，年龄30岁。',\n",
       "  None,\n",
       "  None,\n",
       "  28,\n",
       "  datetime.datetime(2023, 9, 9, 18, 28, 31, 594385),\n",
       "  datetime.datetime(2023, 9, 9, 18, 28, 31, 594385),\n",
       "  'llm',\n",
       "  'completed',\n",
       "  None,\n",
       "  datetime.datetime(2023, 9, 9, 18, 28, 33, 259535),\n",
       "  '7d920c2b-4916-4772-8650-d400269e3a48'),\n",
       " ('2dad9504-7959-4a74-b71c-f945bfe1d44a',\n",
       "  'assistant',\n",
       "  None,\n",
       "  None,\n",
       "  None,\n",
       "  None,\n",
       "  0,\n",
       "  datetime.datetime(2023, 9, 9, 18, 28, 33, 121253),\n",
       "  datetime.datetime(2023, 9, 9, 18, 28, 33, 121253),\n",
       "  'llm',\n",
       "  'processing',\n",
       "  None,\n",
       "  datetime.datetime(2023, 9, 9, 18, 28, 33, 122158),\n",
       "  '7d920c2b-4916-4772-8650-d400269e3a48'),\n",
       " ('2dad9504-7959-4a74-b71c-f945bfe1d44a',\n",
       "  'assistant',\n",
       "  '好的，老周。请问有什么我可以帮助您的吗？',\n",
       "  '好的，老周。请问有什么我可以帮助您的吗？',\n",
       "  None,\n",
       "  None,\n",
       "  17,\n",
       "  datetime.datetime(2023, 9, 9, 18, 28, 33, 121253),\n",
       "  datetime.datetime(2023, 9, 9, 18, 28, 33, 259535),\n",
       "  'llm',\n",
       "  'completed',\n",
       "  None,\n",
       "  datetime.datetime(2023, 9, 9, 18, 28, 33, 259535),\n",
       "  '7d920c2b-4916-4772-8650-d400269e3a48')]"
      ]
     },
     "execution_count": 19,
     "metadata": {},
     "output_type": "execute_result"
    }
   ],
   "source": [
    "sql_select_message = \"\"\"\n",
    "SELECT *\n",
    "FROM conversation_message\n",
    "WHERE conversation_id = ?\n",
    "ORDER BY end_time ASC\n",
    "\"\"\"\n",
    "# 根据当前会话的ID查找数据库中的消息数据\n",
    "# 消息数据在数据库中是多版本存储，只要修改过就会保存一个版本，详细请看源代码\n",
    "result = conn.execute(sql_select_message, (llm.conversation.conversation_id,)).fetchall()\n",
    "print(len(result))\n",
    "result"
   ]
  },
  {
   "cell_type": "markdown",
   "metadata": {},
   "source": [
    "- Memory管理"
   ]
  },
  {
   "cell_type": "code",
   "execution_count": 27,
   "metadata": {},
   "outputs": [
    {
     "name": "stdout",
     "output_type": "stream",
     "text": [
      "好的，老周。请问有什么我可以帮助您的吗？"
     ]
    }
   ],
   "source": [
    "from bida import ChatLLM\n",
    "from bida import MessagePairBufferController\n",
    "\n",
    "llm = ChatLLM(\n",
    "    model_type=\"baidu\",\n",
    "    stream_callback=ChatLLM.stream_callback_func,\n",
    "    buffer_controller=MessagePairBufferController(pair_count=1) # 每次只保留一轮对话\n",
    "    ) \n",
    "\n",
    "result = llm.chat(\"你是一个服务助理，请简洁回答我的问题。我的名字是老周，年龄30岁。\")\n"
   ]
  },
  {
   "cell_type": "code",
   "execution_count": 28,
   "metadata": {},
   "outputs": [
    {
     "name": "stdout",
     "output_type": "stream",
     "text": [
      "您告诉我您的名字是老周。如果您有任何需要帮助的地方，请随时告诉我。"
     ]
    }
   ],
   "source": [
    "result = llm.chat(\"我的名字是？\")"
   ]
  },
  {
   "cell_type": "code",
   "execution_count": 29,
   "metadata": {},
   "outputs": [
    {
     "name": "stdout",
     "output_type": "stream",
     "text": [
      "您说过您是年轻人。如果您有其他疑问或者需要帮助，请随时告诉我。"
     ]
    }
   ],
   "source": [
    "result = llm.chat(\"我多大了？\")"
   ]
  },
  {
   "cell_type": "code",
   "execution_count": 31,
   "metadata": {},
   "outputs": [
    {
     "data": {
      "text/plain": [
       "[Message(id='aa0d2c08-892a-4eff-961f-825a90894ceb', role='user', content='我的名字是？', display_content='我的名字是？', name=None, function_call=None, tokens=50, start_time=datetime.datetime(2023, 9, 9, 18, 30, 16, 201055), end_time=datetime.datetime(2023, 9, 9, 18, 30, 16, 201055), category=<MessageCategory.llm: 'llm'>, status=<MessageStatus.completed: 'completed'>, link_message_id=None, update_time=datetime.datetime(2023, 9, 9, 18, 30, 18, 226128)),\n",
       " Message(id='24b40d94-dffc-4b0a-a6fc-b3d1e40594e8', role='assistant', content='您告诉我您的名字是老周。如果您有任何需要帮助的地方，请随时告诉我。', display_content='您告诉我您的名字是老周。如果您有任何需要帮助的地方，请随时告诉我。', name=None, function_call=None, tokens=30, start_time=datetime.datetime(2023, 9, 9, 18, 30, 18, 114776), end_time=datetime.datetime(2023, 9, 9, 18, 30, 18, 226128), category=<MessageCategory.llm: 'llm'>, status=<MessageStatus.completed: 'completed'>, link_message_id=None, update_time=datetime.datetime(2023, 9, 9, 18, 30, 18, 226128)),\n",
       " Message(id='4cbac63c-1a6d-432a-98d0-a222fb4dd4a3', role='user', content='我多大了？', display_content='我多大了？', name=None, function_call=None, tokens=39, start_time=datetime.datetime(2023, 9, 9, 18, 30, 19, 747096), end_time=datetime.datetime(2023, 9, 9, 18, 30, 19, 747096), category=<MessageCategory.llm: 'llm'>, status=<MessageStatus.completed: 'completed'>, link_message_id=None, update_time=datetime.datetime(2023, 9, 9, 18, 30, 22, 26538)),\n",
       " Message(id='4e6fed54-32df-4cb8-8ee9-ef3ffae13d6f', role='assistant', content='您说过您是年轻人。如果您有其他疑问或者需要帮助，请随时告诉我。', display_content='您说过您是年轻人。如果您有其他疑问或者需要帮助，请随时告诉我。', name=None, function_call=None, tokens=28, start_time=datetime.datetime(2023, 9, 9, 18, 30, 21, 824077), end_time=datetime.datetime(2023, 9, 9, 18, 30, 22, 26538), category=<MessageCategory.llm: 'llm'>, status=<MessageStatus.completed: 'completed'>, link_message_id=None, update_time=datetime.datetime(2023, 9, 9, 18, 30, 22, 26538))]"
      ]
     },
     "execution_count": 31,
     "metadata": {},
     "output_type": "execute_result"
    }
   ],
   "source": [
    "# 可以看到大模型已经忘记年龄, 因为第一次对话已经归档，不再做为历史消息提交给大模型\n",
    "llm.conversation.history_for_llm"
   ]
  }
 ],
 "metadata": {
  "kernelspec": {
   "display_name": "Python 3",
   "language": "python",
   "name": "python3"
  },
  "language_info": {
   "codemirror_mode": {
    "name": "ipython",
    "version": 3
   },
   "file_extension": ".py",
   "mimetype": "text/x-python",
   "name": "python",
   "nbconvert_exporter": "python",
   "pygments_lexer": "ipython3",
   "version": "3.11.0"
  },
  "orig_nbformat": 4
 },
 "nbformat": 4,
 "nbformat_minor": 2
}
