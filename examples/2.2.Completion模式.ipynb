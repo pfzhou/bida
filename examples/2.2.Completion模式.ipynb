{
 "cells": [
  {
   "cell_type": "markdown",
   "metadata": {},
   "source": [
    "#### 2.2 Completion模式"
   ]
  },
  {
   "cell_type": "markdown",
   "metadata": {},
   "source": [
    "- OpenAI"
   ]
  },
  {
   "cell_type": "code",
   "execution_count": 1,
   "metadata": {},
   "outputs": [
    {
     "name": "stdout",
     "output_type": "stream",
     "text": [
      "您好，老周，很高兴为您服务。\n"
     ]
    }
   ],
   "source": [
    "from bida import TextLLM\n",
    "\n",
    "llm = TextLLM(model_type=\"openai\")\n",
    "result = llm.completion(\"你是一个服务助理，请简洁回答我的问题。我的名字是老周。\")\n",
    "print(result)"
   ]
  },
  {
   "cell_type": "markdown",
   "metadata": {},
   "source": [
    "因为是Completion模式，没有记忆功能，每次都是单次对话"
   ]
  },
  {
   "cell_type": "code",
   "execution_count": 2,
   "metadata": {},
   "outputs": [
    {
     "name": "stdout",
     "output_type": "stream",
     "text": [
      "我的名字是李晓明。\n"
     ]
    }
   ],
   "source": [
    "result = llm.completion(\"我的名字是？\")\n",
    "print(result)"
   ]
  },
  {
   "cell_type": "markdown",
   "metadata": {},
   "source": [
    "流式调用："
   ]
  },
  {
   "cell_type": "code",
   "execution_count": 3,
   "metadata": {},
   "outputs": [
    {
     "name": "stdout",
     "output_type": "stream",
     "text": [
      "1+2+3+...+100的和是5050。只取奇数的和是2500。"
     ]
    }
   ],
   "source": [
    "from bida import TextLLM\n",
    "\n",
    "llm = TextLLM(model_type='openai')\n",
    "\n",
    "def my_stream_process_data(data):            \n",
    "    print(data, end=\"\", flush=True)\n",
    "\n",
    "result = llm.completion(\"从1连续加到100，和是多少？如果只取奇数呢？\", stream_callback=my_stream_process_data) "
   ]
  },
  {
   "cell_type": "markdown",
   "metadata": {},
   "source": [
    "- 迭代方式调用"
   ]
  },
  {
   "cell_type": "code",
   "execution_count": 5,
   "metadata": {},
   "outputs": [
    {
     "name": "stdout",
     "output_type": "stream",
     "text": [
      "我\n",
      "我是\n",
      "我是一\n",
      "我是一个\n",
      "我是一个机\n",
      "我是一个机器\n",
      "我是一个机器人\n",
      "我是一个机器人，\n",
      "我是一个机器人，我\n",
      "我是一个机器人，我可\n",
      "我是一个机器人，我可以\n",
      "我是一个机器人，我可以为\n",
      "我是一个机器人，我可以为您\n",
      "我是一个机器人，我可以为您提\n",
      "我是一个机器人，我可以为您提供\n",
      "我是一个机器人，我可以为您提供帮\n",
      "我是一个机器人，我可以为您提供帮助\n",
      "我是一个机器人，我可以为您提供帮助。\n"
     ]
    }
   ],
   "source": [
    "from bida import TextLLM\n",
    "\n",
    "llm = TextLLM(model_type='openai')\n",
    "def callllm():\n",
    "    for partial_message in llm.acompletion(\"好呀，请问你是谁？\"):   # 默认调用为全量返回\n",
    "        yield partial_message\n",
    "for content in callllm():\n",
    "    print(content)"
   ]
  },
  {
   "cell_type": "code",
   "execution_count": 6,
   "metadata": {},
   "outputs": [
    {
     "name": "stdout",
     "output_type": "stream",
     "text": [
      "我是一个机器人，我可以为您提供帮助。"
     ]
    }
   ],
   "source": [
    "from bida import TextLLM\n",
    "\n",
    "llm = TextLLM(model_type='openai')\n",
    "def callllm():\n",
    "    for partial_message in llm.acompletion(\"好呀，请问你是谁？\", increment=True): # 修改为增量方式返回\n",
    "        yield partial_message\n",
    "for content in callllm():\n",
    "    print(content, end=\"\", flush=True)"
   ]
  }
 ],
 "metadata": {
  "kernelspec": {
   "display_name": "Python 3",
   "language": "python",
   "name": "python3"
  },
  "language_info": {
   "codemirror_mode": {
    "name": "ipython",
    "version": 3
   },
   "file_extension": ".py",
   "mimetype": "text/x-python",
   "name": "python",
   "nbconvert_exporter": "python",
   "pygments_lexer": "ipython3",
   "version": "3.11.0"
  },
  "orig_nbformat": 4
 },
 "nbformat": 4,
 "nbformat_minor": 2
}
