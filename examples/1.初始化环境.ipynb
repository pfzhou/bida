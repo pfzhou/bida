{
 "cells": [
  {
   "cell_type": "markdown",
   "metadata": {},
   "source": [
    "### 1. 初始化环境\n"
   ]
  },
  {
   "cell_type": "code",
   "execution_count": null,
   "metadata": {},
   "outputs": [],
   "source": [
    "# 从pip或pip3安装最新的bida\n",
    "!pip install -U bida\n",
    "# 安装依赖包\n",
    "!pip install -r requirements.txt"
   ]
  },
  {
   "cell_type": "code",
   "execution_count": null,
   "metadata": {},
   "outputs": [],
   "source": [
    "from dotenv import load_dotenv, find_dotenv\n",
    "import os\n",
    "_ = load_dotenv(find_dotenv()) # read local .env file\n",
    "# 导入 OpenAI API_KEY\n",
    "openai_api_key = os.environ.get('OPENAI_API_KEY')\n",
    "ali_qw_api_key = os.environ.get('ali_qw_api_key')\n",
    "\n",
    "print(f\"\"\"OpenAI_API_Key：{openai_api_key}\\n\n",
    "通义千问Key：{ali_qw_api_key}\\n\n",
    "如果可以看到自己配置的信息与.env文件一致，说明环境创建正常。\"\"\")\n"
   ]
  }
 ],
 "metadata": {
  "kernelspec": {
   "display_name": "Python 3",
   "language": "python",
   "name": "python3"
  },
  "language_info": {
   "codemirror_mode": {
    "name": "ipython",
    "version": 3
   },
   "file_extension": ".py",
   "mimetype": "text/x-python",
   "name": "python",
   "nbconvert_exporter": "python",
   "pygments_lexer": "ipython3",
   "version": "3.11.0"
  },
  "orig_nbformat": 4
 },
 "nbformat": 4,
 "nbformat_minor": 2
}
