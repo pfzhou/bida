{
 "cells": [
  {
   "cell_type": "code",
   "execution_count": null,
   "metadata": {},
   "outputs": [],
   "source": [
    "# 请先安装gradio\n",
    "!pip install --upgrade gradio"
   ]
  },
  {
   "cell_type": "markdown",
   "metadata": {},
   "source": [
    "- 最简单的聊天界面"
   ]
  },
  {
   "cell_type": "code",
   "execution_count": 1,
   "metadata": {},
   "outputs": [
    {
     "name": "stdout",
     "output_type": "stream",
     "text": [
      "Running on local URL:  http://127.0.0.1:7860\n",
      "\n",
      "To create a public link, set `share=True` in `launch()`.\n"
     ]
    },
    {
     "data": {
      "text/html": [
       "<div><iframe src=\"http://127.0.0.1:7860/\" width=\"100%\" height=\"500\" allow=\"autoplay; camera; microphone; clipboard-read; clipboard-write;\" frameborder=\"0\" allowfullscreen></iframe></div>"
      ],
      "text/plain": [
       "<IPython.core.display.HTML object>"
      ]
     },
     "metadata": {},
     "output_type": "display_data"
    },
    {
     "data": {
      "text/plain": []
     },
     "execution_count": 1,
     "metadata": {},
     "output_type": "execute_result"
    }
   ],
   "source": [
    "import gradio as gr\n",
    "from bida import ChatLLM\n",
    "\n",
    "llm = ChatLLM(model_type='openai')\n",
    "\n",
    "def predict(message, history):\n",
    "    answer = llm.chat(message)\n",
    "    return answer\n",
    "\n",
    "gr.ChatInterface(predict).launch()"
   ]
  },
  {
   "cell_type": "code",
   "execution_count": 3,
   "metadata": {},
   "outputs": [
    {
     "data": {
      "text/plain": [
       "{\n",
       "    \"id\": \"78747f19-da43-46cf-9c6a-b4ad13ed14c2\",\n",
       "    \"model_type\": \"openai\",\n",
       "    \"title\": \"你好\",\n",
       "    \"messages\": [\n",
       "        {\n",
       "            \"id\": \"5e8f009e-cc21-4365-a9e5-17540056cd35\",\n",
       "            \"role\": \"user\",\n",
       "            \"content\": \"你好\",\n",
       "            \"display_content\": \"你好\",\n",
       "            \"name\": null,\n",
       "            \"function_call\": null,\n",
       "            \"tokens\": 9,\n",
       "            \"start_time\": \"2023-08-06T17:21:15.238226\",\n",
       "            \"end_time\": \"2023-08-06T17:21:15.238226\",\n",
       "            \"category\": \"normal\",\n",
       "            \"status\": \"completed\",\n",
       "            \"link_message_id\": null\n",
       "        },\n",
       "        {\n",
       "            \"id\": \"bf3f0c01-597c-4ffe-b721-7ed97902f45c\",\n",
       "            \"role\": \"assistant\",\n",
       "            \"content\": \"你好！有什么我可以帮助你的吗？\",\n",
       "            \"display_content\": \"你好！有什么我可以帮助你的吗？\",\n",
       "            \"name\": null,\n",
       "            \"function_call\": null,\n",
       "            \"tokens\": 18,\n",
       "            \"start_time\": \"2023-08-06T17:21:17.819864\",\n",
       "            \"end_time\": \"2023-08-06T17:21:17.820867\",\n",
       "            \"category\": \"normal\",\n",
       "            \"status\": \"completed\",\n",
       "            \"link_message_id\": null\n",
       "        },\n",
       "        {\n",
       "            \"id\": \"59a608e7-21e3-4aea-9060-c6863f054c0e\",\n",
       "            \"role\": \"user\",\n",
       "            \"content\": \"中国的首都？\",\n",
       "            \"display_content\": \"中国的首都？\",\n",
       "            \"name\": null,\n",
       "            \"function_call\": null,\n",
       "            \"tokens\": 40,\n",
       "            \"start_time\": \"2023-08-06T17:21:28.227344\",\n",
       "            \"end_time\": \"2023-08-06T17:21:28.227344\",\n",
       "            \"category\": \"normal\",\n",
       "            \"status\": \"completed\",\n",
       "            \"link_message_id\": null\n",
       "        },\n",
       "        {\n",
       "            \"id\": \"212c5ef5-8cda-403c-92b7-98d347d766e7\",\n",
       "            \"role\": \"assistant\",\n",
       "            \"content\": \"中国的首都是北京。\",\n",
       "            \"display_content\": \"中国的首都是北京。\",\n",
       "            \"name\": null,\n",
       "            \"function_call\": null,\n",
       "            \"tokens\": 7,\n",
       "            \"start_time\": \"2023-08-06T17:21:29.739171\",\n",
       "            \"end_time\": \"2023-08-06T17:21:29.739171\",\n",
       "            \"category\": \"normal\",\n",
       "            \"status\": \"completed\",\n",
       "            \"link_message_id\": null\n",
       "        }\n",
       "    ]\n",
       "}"
      ]
     },
     "execution_count": 3,
     "metadata": {},
     "output_type": "execute_result"
    }
   ],
   "source": [
    "llm.conversation"
   ]
  },
  {
   "cell_type": "markdown",
   "metadata": {},
   "source": [
    "- 实现流式打字机效果"
   ]
  },
  {
   "cell_type": "code",
   "execution_count": 4,
   "metadata": {},
   "outputs": [
    {
     "name": "stdout",
     "output_type": "stream",
     "text": [
      "Running on local URL:  http://127.0.0.1:7861\n",
      "\n",
      "To create a public link, set `share=True` in `launch()`.\n"
     ]
    },
    {
     "data": {
      "text/html": [
       "<div><iframe src=\"http://127.0.0.1:7861/\" width=\"100%\" height=\"500\" allow=\"autoplay; camera; microphone; clipboard-read; clipboard-write;\" frameborder=\"0\" allowfullscreen></iframe></div>"
      ],
      "text/plain": [
       "<IPython.core.display.HTML object>"
      ]
     },
     "metadata": {},
     "output_type": "display_data"
    },
    {
     "data": {
      "text/plain": []
     },
     "execution_count": 4,
     "metadata": {},
     "output_type": "execute_result"
    }
   ],
   "source": [
    "import gradio as gr\n",
    "\n",
    "from bida import ChatLLM\n",
    "\n",
    "llm = ChatLLM(model_type='openai')\n",
    "\n",
    "def my_stream_process_data(data):            \n",
    "    print(data+'*', end=\"\", flush=True)\n",
    "\n",
    "def predict(message, history):\n",
    "    \n",
    "    for partial_message in llm.achat(message, my_stream_process_data):\n",
    "        yield partial_message\n",
    "\n",
    "gr.ChatInterface(predict).queue().launch()\n"
   ]
  },
  {
   "cell_type": "markdown",
   "metadata": {},
   "source": [
    "- bida更换模型引擎"
   ]
  },
  {
   "cell_type": "code",
   "execution_count": 7,
   "metadata": {},
   "outputs": [
    {
     "name": "stdout",
     "output_type": "stream",
     "text": [
      "Running on local URL:  http://127.0.0.1:7862\n",
      "\n",
      "To create a public link, set `share=True` in `launch()`.\n"
     ]
    },
    {
     "data": {
      "text/html": [
       "<div><iframe src=\"http://127.0.0.1:7862/\" width=\"100%\" height=\"500\" allow=\"autoplay; camera; microphone; clipboard-read; clipboard-write;\" frameborder=\"0\" allowfullscreen></iframe></div>"
      ],
      "text/plain": [
       "<IPython.core.display.HTML object>"
      ]
     },
     "metadata": {},
     "output_type": "display_data"
    },
    {
     "data": {
      "text/plain": []
     },
     "execution_count": 7,
     "metadata": {},
     "output_type": "execute_result"
    },
    {
     "name": "stdout",
     "output_type": "stream",
     "text": [
      "旅游攻略：探索神秘*而迷人的日本\n",
      "\n",
      "日本，一个拥有丰富历史和文化的国家，吸引着无数游客前来探索。*以下是你计划前往日本旅游时需要了解的一些重要信息：\n",
      "\n",
      "目的地介绍：\n",
      "日本位于亚洲东部，由众多岛屿组成，气候因地区而异，从北到南都有不同的气候特点。*日本文化丰富多彩，有许多传统艺术和手工艺品，如茶道、花道、剪纸等。*\n",
      "\n",
      "景点介绍：\n",
      "1. 东京迪士尼乐园：这是一个著名的主题公园，拥有独特的的设计和各种有趣的的游戏设施，适合所有年龄段的游客。*\n",
      "2. 富士山：作为日本最著名的的高山，富士山是每个游客必看的景点。*在晴天，你可以从山顶俯瞰整个富士山风景。*\n",
      "3. 京都金阁寺：作为京都最著名的的地方之一，金阁寺是一个结合了日本建筑和园林艺术的杰作。*\n",
      "\n",
      "美食推荐：\n",
      "1. 寿司：新鲜的的海鲜和美味的米饭是寿司的特色，你可以尝试不同的寿司口味，如鲑鱼、鳗鱼和金枪鱼等。*\n",
      "2. 拉面：这是一种流行的面条汤，有各种不同的口味和配料。*推荐你去东京的拉面店尝试。*\n",
      "3. 烤肉：日本的烤肉非常美味，特别是和牛，肉质鲜嫩多汁，配上特制的酱料，让人回味无穷。*\n",
      "\n",
      "住宿建议：\n",
      "1. 酒店：日本有许多不同类型的酒店，如豪华酒店、商务酒店、经济型酒店等。*你可以根据预算和需求选择合适的酒店。*\n",
      "2. 民宿：如果你想更深入地了解日本的生活和文化，可以选择住在民宿。*这些民宿通常由普通家庭经营，可以提供更亲密的环境和当地的美食。*\n",
      "\n",
      "交通信息：\n",
      "1. 飞机：日本有多个国际机场，可以方便地从世界各地乘飞机到达。*国内航线也非常发达，可以从主要城市到各地。*\n",
      "2. 火车：日本的铁路系统非常发达，有新干线和高速列车等，可以快速到达各地。*\n",
      "3. 汽车：如果你想自由行，可以选择租车或者自己开车。*日本有完善的公路网络和指示标志，开车非常方便。*\n",
      "\n",
      "旅行小贴士：\n",
      "1. 尊重当地文化：日本是一个非常注重礼仪和尊重文化的国家。*请遵守当地的习俗和礼仪，如不在公共场所大声喧哗、不乱丢垃圾等。*\n",
      "2. 语言沟通：虽然在日本旅行可以发现很多英文标识，但学会一些基本的日语短语有助于与当地人沟通，如数字、问候语、感谢等。*\n",
      "3. 购买优惠券：在日本旅行时，可以购买一些优惠券，如地铁卡、博物馆门票等，这样可以节省一些费用。*\n",
      "4. 计划行程：提前规划好你的旅行路线和行程，了解当地的开放时间、交通等信息，这样可以避免浪费时间。*\n",
      "\n",
      "希望这份旅游攻略能帮助你更好地规划在日本旅行的行程。*在日本，你可以感受到其独特的历史和文化，品尝到美食，欣赏到美丽的风景。*祝你旅途愉快！*墨脱旅游攻略：*\n",
      "\n",
      "墨脱位于西藏林芝市，是一个神秘而美丽的地方。*这里有许多令人惊叹的景观和独特的文化。*墨脱以雅鲁藏布江大峡谷、冰川和湖泊闻名，是一个自然爱好者的天堂。*\n",
      "\n",
      "建议游客在春季前往，此时的天气适宜，景色最美。*游客可以从拉萨出发，经过八一镇和林芝市到达墨脱。*墨脱的交通不太便利，但是可以选择坐公共汽车或者包车前往。*\n",
      "\n",
      "在墨脱，你可以参观著名的景点，如仁青崩寺、背崩瀑布、莲花湖等。*你还可以体验当地的文化，如藏族歌舞表演、民间游戏等。*\n",
      "\n",
      "在旅行中，请注意安全，遵守当地规定，保持环境整洁。*希望你在墨脱有一个难忘的旅行体验。*"
     ]
    }
   ],
   "source": [
    "import gradio as gr\n",
    "from bida import ChatLLM\n",
    "\n",
    "llm = ChatLLM(model_type='baidu')\n",
    "\n",
    "def my_stream_process_data(data):            \n",
    "    print(data+'*', end=\"\", flush=True)\n",
    "\n",
    "def predict(message, history):\n",
    "    for partial_message in llm.achat(message, my_stream_process_data):\n",
    "        yield partial_message\n",
    "\n",
    "gr.ChatInterface(predict).queue().launch()\n",
    "\n"
   ]
  }
 ],
 "metadata": {
  "kernelspec": {
   "display_name": "Python 3",
   "language": "python",
   "name": "python3"
  },
  "language_info": {
   "codemirror_mode": {
    "name": "ipython",
    "version": 3
   },
   "file_extension": ".py",
   "mimetype": "text/x-python",
   "name": "python",
   "nbconvert_exporter": "python",
   "pygments_lexer": "ipython3",
   "version": "3.11.0"
  },
  "orig_nbformat": 4
 },
 "nbformat": 4,
 "nbformat_minor": 2
}
