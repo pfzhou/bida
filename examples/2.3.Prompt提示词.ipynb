{
 "cells": [
  {
   "cell_type": "markdown",
   "metadata": {},
   "source": [
    "#### 2.3 Prompt提示词"
   ]
  },
  {
   "cell_type": "markdown",
   "metadata": {},
   "source": [
    "- 最简单的提示词模板：PromptTemplate_Text"
   ]
  },
  {
   "cell_type": "code",
   "execution_count": 4,
   "metadata": {},
   "outputs": [
    {
     "name": "stdout",
     "output_type": "stream",
     "text": [
      "你好！有什么我可以帮助你的吗？"
     ]
    }
   ],
   "source": [
    "from bida  import PromptTemplate_Text\n",
    "from bida import ChatLLM\n",
    "\n",
    "def my_stream_process_data(data):\n",
    "    print(data, end=\"\", flush=True)\n",
    "\n",
    "# PromptTemplate_Text 默认提示词为空\n",
    "llm = ChatLLM(\n",
    "    model_type=\"openai\", \n",
    "    prompt_template=PromptTemplate_Text(),\n",
    "    stream_callback=my_stream_process_data         \n",
    "    )\n",
    "\n",
    "result = llm.chat(\"给我打个招呼\")"
   ]
  },
  {
   "cell_type": "code",
   "execution_count": 5,
   "metadata": {},
   "outputs": [
    {
     "data": {
      "text/plain": [
       "{\n",
       "    \"id\": \"f26de6c9-b4f1-45fc-9503-57002a267e18\",\n",
       "    \"model_type\": \"openai\",\n",
       "    \"title\": \"给我打个招呼\",\n",
       "    \"persist_time\": null,\n",
       "    \"messages\": [\n",
       "        {\n",
       "            \"id\": \"c4cfde21-4c7a-4857-8590-1f65a6294d1d\",\n",
       "            \"role\": \"user\",\n",
       "            \"content\": \"给我打个招呼\",\n",
       "            \"display_content\": \"给我打个招呼\",\n",
       "            \"name\": null,\n",
       "            \"function_call\": null,\n",
       "            \"tokens\": 8,\n",
       "            \"start_time\": \"2023-09-09T18:37:44.699144\",\n",
       "            \"end_time\": \"2023-09-09T18:37:44.699144\",\n",
       "            \"category\": \"llm\",\n",
       "            \"status\": \"completed\",\n",
       "            \"link_message_id\": null,\n",
       "            \"update_time\": \"2023-09-09T18:37:52.949806\"\n",
       "        },\n",
       "        {\n",
       "            \"id\": \"54ad07a6-979b-4909-8527-f0ed216a9cb2\",\n",
       "            \"role\": \"assistant\",\n",
       "            \"content\": \"你好！有什么我可以帮助你的吗？\",\n",
       "            \"display_content\": \"你好！有什么我可以帮助你的吗？\",\n",
       "            \"name\": null,\n",
       "            \"function_call\": null,\n",
       "            \"tokens\": 18,\n",
       "            \"start_time\": \"2023-09-09T18:37:46.651916\",\n",
       "            \"end_time\": \"2023-09-09T18:37:52.949806\",\n",
       "            \"category\": \"llm\",\n",
       "            \"status\": \"completed\",\n",
       "            \"link_message_id\": null,\n",
       "            \"update_time\": \"2023-09-09T18:37:52.949806\"\n",
       "        }\n",
       "    ]\n",
       "}"
      ]
     },
     "execution_count": 5,
     "metadata": {},
     "output_type": "execute_result"
    }
   ],
   "source": [
    "# 打印聊天历史\n",
    "llm.conversation"
   ]
  },
  {
   "cell_type": "code",
   "execution_count": 7,
   "metadata": {},
   "outputs": [
    {
     "name": "stdout",
     "output_type": "stream",
     "text": [
      "你好，客人！有什么我可以帮助你的吗？"
     ]
    }
   ],
   "source": [
    "from bida  import PromptTemplate_Text\n",
    "from bida import ChatLLM\n",
    "\n",
    "def my_stream_process_data(data):\n",
    "    print(data, end=\"\", flush=True)\n",
    "\n",
    "# 添加提示词\n",
    "llm = ChatLLM(\n",
    "    model_type=\"openai\", \n",
    "    prompt_template=PromptTemplate_Text(\"你是一个客服机器人，请使用“客人”来称呼提问的用户。\"), \n",
    "    stream_callback=my_stream_process_data\n",
    "    )\n",
    "result = llm.chat(\"给我打个招呼\")"
   ]
  },
  {
   "cell_type": "code",
   "execution_count": 8,
   "metadata": {},
   "outputs": [
    {
     "data": {
      "text/plain": [
       "{\n",
       "    \"id\": \"62aa52cf-cb6d-45a9-b784-9f4c265e122e\",\n",
       "    \"model_type\": \"openai\",\n",
       "    \"title\": \"给我打个招呼\",\n",
       "    \"persist_time\": null,\n",
       "    \"messages\": [\n",
       "        {\n",
       "            \"id\": \"b57a0056-9ba0-4163-becc-acfab0409fc1\",\n",
       "            \"role\": \"system\",\n",
       "            \"content\": \"你是一个客服机器人，请使用“客人”来称呼提问的用户。\",\n",
       "            \"display_content\": \"你是一个客服机器人，请使用“客人”来称呼提问的用户。\",\n",
       "            \"name\": null,\n",
       "            \"function_call\": null,\n",
       "            \"tokens\": 23,\n",
       "            \"start_time\": \"2023-09-09T18:39:15.219592\",\n",
       "            \"end_time\": \"2023-09-09T18:39:15.219592\",\n",
       "            \"category\": \"llm\",\n",
       "            \"status\": \"completed\",\n",
       "            \"link_message_id\": null,\n",
       "            \"update_time\": \"2023-09-09T18:39:15.219592\"\n",
       "        },\n",
       "        {\n",
       "            \"id\": \"95367a05-3493-4770-88c2-b7de179605aa\",\n",
       "            \"role\": \"user\",\n",
       "            \"content\": \"给我打个招呼\",\n",
       "            \"display_content\": \"给我打个招呼\",\n",
       "            \"name\": null,\n",
       "            \"function_call\": null,\n",
       "            \"tokens\": 8,\n",
       "            \"start_time\": \"2023-09-09T18:39:15.219592\",\n",
       "            \"end_time\": \"2023-09-09T18:39:15.219592\",\n",
       "            \"category\": \"llm\",\n",
       "            \"status\": \"completed\",\n",
       "            \"link_message_id\": null,\n",
       "            \"update_time\": \"2023-09-09T18:39:18.755202\"\n",
       "        },\n",
       "        {\n",
       "            \"id\": \"29838f75-a233-45fa-9412-a0e1e0c9cabb\",\n",
       "            \"role\": \"assistant\",\n",
       "            \"content\": \"你好，客人！有什么我可以帮助你的吗？\",\n",
       "            \"display_content\": \"你好，客人！有什么我可以帮助你的吗？\",\n",
       "            \"name\": null,\n",
       "            \"function_call\": null,\n",
       "            \"tokens\": 21,\n",
       "            \"start_time\": \"2023-09-09T18:39:18.032007\",\n",
       "            \"end_time\": \"2023-09-09T18:39:18.755202\",\n",
       "            \"category\": \"llm\",\n",
       "            \"status\": \"completed\",\n",
       "            \"link_message_id\": null,\n",
       "            \"update_time\": \"2023-09-09T18:39:18.755202\"\n",
       "        }\n",
       "    ]\n",
       "}"
      ]
     },
     "execution_count": 8,
     "metadata": {},
     "output_type": "execute_result"
    }
   ],
   "source": [
    "# 打印聊天历史\n",
    "llm.conversation\n",
    "\n",
    "# 如果使用openai模型，会把提示词放在System Prompt中，不支持System Prompt的模型，会放在第一个用户会话中"
   ]
  },
  {
   "cell_type": "code",
   "execution_count": 12,
   "metadata": {},
   "outputs": [
    {
     "name": "stdout",
     "output_type": "stream",
     "text": [
      "客官，您好！有什么我可以帮助您的吗？"
     ]
    }
   ],
   "source": [
    "from bida  import PromptTemplate_Text\n",
    "from bida import ChatLLM\n",
    "\n",
    "def my_stream_process_data(data):\n",
    "    print(data, end=\"\", flush=True)\n",
    "\n",
    "# 动态替换提示词，使用四对{}包括\n",
    "context = \"客官\"\n",
    "tp = PromptTemplate_Text(\n",
    "    \"你是一个客服机器人，请使用“{{{{username}}}}”来称呼提问的用户。\", \n",
    "    username=context\n",
    "    )\n",
    "\n",
    "llm = ChatLLM(\n",
    "    model_type=\"openai\", \n",
    "    prompt_template=tp, \n",
    "    stream_callback=my_stream_process_data\n",
    "    )\n",
    "\n",
    "result = llm.chat(\"给我打个招呼\")"
   ]
  },
  {
   "cell_type": "markdown",
   "metadata": {},
   "source": [
    "- 自定义提示词模板"
   ]
  },
  {
   "cell_type": "code",
   "execution_count": 10,
   "metadata": {},
   "outputs": [
    {
     "name": "stdout",
     "output_type": "stream",
     "text": [
      "您好，我是来自达摩院的超大规模语言模型，我叫通义千问。作为一个AI助手，我的目标是帮助用户获得准确、有用的信息，解决他们的问题和困惑。我会不断学习和进步，不断提升自己的能力，为用户提供更好的服务。如果您有任何问题或需要帮助，请随时告诉我，我会尽力提供支持。"
     ]
    }
   ],
   "source": [
    "from bida import PromptTemplateBase\n",
    "\n",
    "class DemoPromptTemplate(PromptTemplateBase):\n",
    "    '''\n",
    "    一个演示模板类\n",
    "    '''\n",
    "    main_prompt =  '''你的名字是：人工智能客服助理，会帮您解决各种问题。'''\n",
    "\n",
    "# 创建实例\n",
    "demoPT = DemoPromptTemplate()\n",
    "\n",
    "from bida import ChatLLM\n",
    "\n",
    "def my_stream_process_data(data):\n",
    "    print(data, end=\"\", flush=True)\n",
    "\n",
    "llm = ChatLLM(\n",
    "    model_type=\"aliyun\", \n",
    "    prompt_template=demoPT,          \n",
    "    )\n",
    "\n",
    "result = llm.chat(\"你好，你是谁？\", my_stream_process_data)"
   ]
  },
  {
   "cell_type": "code",
   "execution_count": 11,
   "metadata": {},
   "outputs": [
    {
     "data": {
      "text/plain": [
       "{\n",
       "    \"id\": \"4f1d9dfd-9e41-4f8c-bf36-f4babf05e0a2\",\n",
       "    \"model_type\": \"aliyun\",\n",
       "    \"title\": \"你好，你是谁？\",\n",
       "    \"persist_time\": null,\n",
       "    \"messages\": [\n",
       "        {\n",
       "            \"id\": \"fa01f5bd-b1d3-45ac-bd80-354a0e1022c0\",\n",
       "            \"role\": \"user\",\n",
       "            \"content\": \"你的名字是：人工智能客服助理，会帮您解决各种问题。\\n你好，你是谁？\",\n",
       "            \"display_content\": \"你好，你是谁？\",\n",
       "            \"name\": null,\n",
       "            \"function_call\": null,\n",
       "            \"tokens\": 50,\n",
       "            \"start_time\": \"2023-09-09T18:43:06.725383\",\n",
       "            \"end_time\": \"2023-09-09T18:43:06.725383\",\n",
       "            \"category\": \"llm\",\n",
       "            \"status\": \"completed\",\n",
       "            \"link_message_id\": null,\n",
       "            \"update_time\": \"2023-09-09T18:43:10.969598\"\n",
       "        },\n",
       "        {\n",
       "            \"id\": \"cca28456-f6bd-41e0-9cd2-9759d3316517\",\n",
       "            \"role\": \"assistant\",\n",
       "            \"content\": \"您好，我是来自达摩院的超大规模语言模型，我叫通义千问。作为一个AI助手，我的目标是帮助用户获得准确、有用的信息，解决他们的问题和困惑。我会不断学习和进步，不断提升自己的能力，为用户提供更好的服务。如果您有任何问题或需要帮助，请随时告诉我，我会尽力提供支持。\",\n",
       "            \"display_content\": \"您好，我是来自达摩院的超大规模语言模型，我叫通义千问。作为一个AI助手，我的目标是帮助用户获得准确、有用的信息，解决他们的问题和困惑。我会不断学习和进步，不断提升自己的能力，为用户提供更好的服务。如果您有任何问题或需要帮助，请随时告诉我，我会尽力提供支持。\",\n",
       "            \"name\": null,\n",
       "            \"function_call\": null,\n",
       "            \"tokens\": 116,\n",
       "            \"start_time\": \"2023-09-09T18:43:06.726384\",\n",
       "            \"end_time\": \"2023-09-09T18:43:10.969598\",\n",
       "            \"category\": \"llm\",\n",
       "            \"status\": \"completed\",\n",
       "            \"link_message_id\": null,\n",
       "            \"update_time\": \"2023-09-09T18:43:10.969598\"\n",
       "        }\n",
       "    ]\n",
       "}"
      ]
     },
     "execution_count": 11,
     "metadata": {},
     "output_type": "execute_result"
    }
   ],
   "source": [
    "# 打印聊天历史\n",
    "llm.conversation"
   ]
  },
  {
   "cell_type": "markdown",
   "metadata": {},
   "source": [
    "- 按模型设定不同的提示词"
   ]
  },
  {
   "cell_type": "code",
   "execution_count": 1,
   "metadata": {},
   "outputs": [],
   "source": [
    "from bida import PromptTemplateBase\n",
    "\n",
    "class DemoPromptTemplate(PromptTemplateBase):\n",
    "    '''\n",
    "    一个演示模板类\n",
    "    '''\n",
    "\n",
    "    main_prompt =  '''你的名字是：人工智能客服助理，会帮您解决各种问题。'''\n",
    "\n",
    "    @PromptTemplateBase.using_model(model_type=\"openai\")\n",
    "    def openai_prompt(self):\n",
    "        return \"你的名字是：OpenAI的智能客服助理，会帮您解决各种问题。\"\n",
    "\n",
    "    @PromptTemplateBase.using_model(model_type=\"baidu\", model_name=\"ernie-bot-turbo\")\n",
    "    def vicuna_prompt(self):\n",
    "        return \"你的名字是：百度最turbo的智能客服助理，会帮您解决各种问题。\"\n",
    "    \n",
    "    @PromptTemplateBase.using_model(model_type=\"baidu\")\n",
    "    def vicuna2_prompt(self):\n",
    "        return \"你的名字是：百度的智能客服助理，会帮您解决各种问题。\"\n",
    "\n",
    "demoPT = DemoPromptTemplate()"
   ]
  },
  {
   "cell_type": "code",
   "execution_count": 2,
   "metadata": {},
   "outputs": [
    {
     "name": "stdout",
     "output_type": "stream",
     "text": [
      "你好！我是OpenAI的智能客服助理。我可以帮助您解答各种问题和提供相关的帮助。请告诉我您需要什么样的帮助。"
     ]
    }
   ],
   "source": [
    "from bida import ChatLLM\n",
    "\n",
    "def my_stream_process_data(data):\n",
    "    print(data, end=\"\", flush=True)\n",
    "\n",
    "llm = ChatLLM(\n",
    "    model_type=\"openai\", \n",
    "    prompt_template=demoPT,          \n",
    "    )\n",
    "\n",
    "result = llm.chat(\"你好，你是谁？\", my_stream_process_data)"
   ]
  },
  {
   "cell_type": "code",
   "execution_count": 3,
   "metadata": {},
   "outputs": [
    {
     "name": "stdout",
     "output_type": "stream",
     "text": [
      "你好，我是百度公司开发的文心一言，英文名是ERNIE Bot，可以协助你完成范围广泛的任务并提供有关各种主题的信息，比如回答问题，提供定义和解释及建议。如果你有任何问题，请随时向我提问。"
     ]
    }
   ],
   "source": [
    "from bida import ChatLLM\n",
    "\n",
    "def my_stream_process_data(data):\n",
    "    print(data, end=\"\", flush=True)\n",
    "\n",
    "llm = ChatLLM(\n",
    "    model_type=\"baidu\", \n",
    "    prompt_template=demoPT,          \n",
    "    )\n",
    "\n",
    "result = llm.chat(\"你好，你是谁？\", my_stream_process_data)"
   ]
  },
  {
   "cell_type": "code",
   "execution_count": 4,
   "metadata": {},
   "outputs": [
    {
     "name": "stdout",
     "output_type": "stream",
     "text": [
      "我是百度最turbo的智能客服助理，我的目的是帮助您解决问题。"
     ]
    }
   ],
   "source": [
    "from bida import ChatLLM\n",
    "\n",
    "def my_stream_process_data(data):\n",
    "    print(data, end=\"\", flush=True)\n",
    "\n",
    "llm = ChatLLM(\n",
    "    model_type=\"baidu\", \n",
    "    model_name=\"ernie-bot-turbo\",\n",
    "    prompt_template=demoPT,          \n",
    "    )\n",
    "\n",
    "result = llm.chat(\"你好，你是谁？\", my_stream_process_data)"
   ]
  }
 ],
 "metadata": {
  "kernelspec": {
   "display_name": "Python 3",
   "language": "python",
   "name": "python3"
  },
  "language_info": {
   "codemirror_mode": {
    "name": "ipython",
    "version": 3
   },
   "file_extension": ".py",
   "mimetype": "text/x-python",
   "name": "python",
   "nbconvert_exporter": "python",
   "pygments_lexer": "ipython3",
   "version": "3.11.0"
  },
  "orig_nbformat": 4
 },
 "nbformat": 4,
 "nbformat_minor": 2
}
