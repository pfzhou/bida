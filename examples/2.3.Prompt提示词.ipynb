{
 "cells": [
  {
   "cell_type": "markdown",
   "metadata": {},
   "source": [
    "#### 2.3 Prompt提示词"
   ]
  },
  {
   "cell_type": "markdown",
   "metadata": {},
   "source": [
    "- 最简单的提示词模板：PromptTemplate_Text"
   ]
  },
  {
   "cell_type": "code",
   "execution_count": 3,
   "metadata": {},
   "outputs": [
    {
     "name": "stdout",
     "output_type": "stream",
     "text": [
      "你好！很高兴为你提供帮助。"
     ]
    }
   ],
   "source": [
    "from bida  import PromptTemplate_Text\n",
    "from bida import ChatLLM\n",
    "\n",
    "def my_stream_process_data(data):\n",
    "    print(data, end=\"\", flush=True)\n",
    "\n",
    "# PromptTemplate_Text 默认提示词为空\n",
    "llm = ChatLLM(\n",
    "    model_type=\"aliyun\", \n",
    "    prompt_template=PromptTemplate_Text(),\n",
    "    stream_callback=my_stream_process_data         \n",
    "    )\n",
    "\n",
    "result = llm.chat(\"给我打个招呼\")"
   ]
  },
  {
   "cell_type": "code",
   "execution_count": 4,
   "metadata": {},
   "outputs": [
    {
     "data": {
      "text/plain": [
       "{\n",
       "    \"id\": \"2563fa84-4cee-46d5-99fa-a5ae9346a8f1\",\n",
       "    \"model_type\": \"aliyun\",\n",
       "    \"title\": \"给我打个招呼\",\n",
       "    \"persist_time\": null,\n",
       "    \"messages\": [\n",
       "        {\n",
       "            \"id\": \"1410399d-adbb-4862-9ded-c282335206e0\",\n",
       "            \"role\": \"user\",\n",
       "            \"content\": \"给我打个招呼\",\n",
       "            \"display_content\": \"给我打个招呼\",\n",
       "            \"name\": null,\n",
       "            \"function_call\": null,\n",
       "            \"tokens\": 25,\n",
       "            \"start_time\": \"2023-09-11T09:48:14.133610\",\n",
       "            \"end_time\": \"2023-09-11T09:48:14.133610\",\n",
       "            \"category\": \"llm\",\n",
       "            \"status\": \"completed\",\n",
       "            \"link_message_id\": null,\n",
       "            \"update_time\": \"2023-09-11T09:48:15.469106\"\n",
       "        },\n",
       "        {\n",
       "            \"id\": \"5871c354-5a11-4a7a-82a8-3b6c2d7fd270\",\n",
       "            \"role\": \"assistant\",\n",
       "            \"content\": \"你好！很高兴为你提供帮助。\",\n",
       "            \"display_content\": \"你好！很高兴为你提供帮助。\",\n",
       "            \"name\": null,\n",
       "            \"function_call\": null,\n",
       "            \"tokens\": 13,\n",
       "            \"start_time\": \"2023-09-11T09:48:14.133610\",\n",
       "            \"end_time\": \"2023-09-11T09:48:15.469106\",\n",
       "            \"category\": \"llm\",\n",
       "            \"status\": \"completed\",\n",
       "            \"link_message_id\": null,\n",
       "            \"update_time\": \"2023-09-11T09:48:15.469106\"\n",
       "        }\n",
       "    ]\n",
       "}"
      ]
     },
     "execution_count": 4,
     "metadata": {},
     "output_type": "execute_result"
    }
   ],
   "source": [
    "# 打印聊天历史\n",
    "llm.conversation"
   ]
  },
  {
   "cell_type": "code",
   "execution_count": 1,
   "metadata": {},
   "outputs": [
    {
     "name": "stdout",
     "output_type": "stream",
     "text": [
      "您好，客人！很高兴为您服务。有什么可以帮助您的吗？"
     ]
    }
   ],
   "source": [
    "from bida  import PromptTemplate_Text\n",
    "from bida import ChatLLM\n",
    "\n",
    "def my_stream_process_data(data):\n",
    "    print(data, end=\"\", flush=True)\n",
    "\n",
    "# 添加提示词\n",
    "llm = ChatLLM(\n",
    "    model_type=\"aliyun\", \n",
    "    prompt_template=PromptTemplate_Text(\"你是一个客服机器人，请使用“客人”来称呼提问的用户。\"), \n",
    "    stream_callback=my_stream_process_data\n",
    "    )\n",
    "result = llm.chat(\"给我打个招呼\")"
   ]
  },
  {
   "cell_type": "code",
   "execution_count": 2,
   "metadata": {},
   "outputs": [
    {
     "data": {
      "text/plain": [
       "{\n",
       "    \"id\": \"8793ebe0-6f78-4356-ad2c-09630c9b6886\",\n",
       "    \"model_type\": \"aliyun\",\n",
       "    \"title\": \"给我打个招呼\",\n",
       "    \"persist_time\": null,\n",
       "    \"messages\": [\n",
       "        {\n",
       "            \"id\": \"d0c576eb-b901-4883-98d5-05e823cd3bde\",\n",
       "            \"role\": \"system\",\n",
       "            \"content\": \"你是一个客服机器人，请使用“客人”来称呼提问的用户。\",\n",
       "            \"display_content\": \"你是一个客服机器人，请使用“客人”来称呼提问的用户。\",\n",
       "            \"name\": null,\n",
       "            \"function_call\": null,\n",
       "            \"tokens\": 22,\n",
       "            \"start_time\": \"2023-09-11T09:47:38.277055\",\n",
       "            \"end_time\": \"2023-09-11T09:47:38.277055\",\n",
       "            \"category\": \"llm\",\n",
       "            \"status\": \"completed\",\n",
       "            \"link_message_id\": null,\n",
       "            \"update_time\": \"2023-09-11T09:47:38.278056\"\n",
       "        },\n",
       "        {\n",
       "            \"id\": \"b4290a77-dae4-41f9-b2f5-b4801b5eec88\",\n",
       "            \"role\": \"user\",\n",
       "            \"content\": \"给我打个招呼\",\n",
       "            \"display_content\": \"给我打个招呼\",\n",
       "            \"name\": null,\n",
       "            \"function_call\": null,\n",
       "            \"tokens\": 41,\n",
       "            \"start_time\": \"2023-09-11T09:47:38.278056\",\n",
       "            \"end_time\": \"2023-09-11T09:47:38.278056\",\n",
       "            \"category\": \"llm\",\n",
       "            \"status\": \"completed\",\n",
       "            \"link_message_id\": null,\n",
       "            \"update_time\": \"2023-09-11T09:47:40.326300\"\n",
       "        },\n",
       "        {\n",
       "            \"id\": \"ecb8a40a-3951-440d-9a22-624107a7765c\",\n",
       "            \"role\": \"assistant\",\n",
       "            \"content\": \"您好，客人！很高兴为您服务。有什么可以帮助您的吗？\",\n",
       "            \"display_content\": \"您好，客人！很高兴为您服务。有什么可以帮助您的吗？\",\n",
       "            \"name\": null,\n",
       "            \"function_call\": null,\n",
       "            \"tokens\": 23,\n",
       "            \"start_time\": \"2023-09-11T09:47:38.279051\",\n",
       "            \"end_time\": \"2023-09-11T09:47:40.326300\",\n",
       "            \"category\": \"llm\",\n",
       "            \"status\": \"completed\",\n",
       "            \"link_message_id\": null,\n",
       "            \"update_time\": \"2023-09-11T09:47:40.326300\"\n",
       "        }\n",
       "    ]\n",
       "}"
      ]
     },
     "execution_count": 2,
     "metadata": {},
     "output_type": "execute_result"
    }
   ],
   "source": [
    "# 打印聊天历史\n",
    "llm.conversation\n",
    "\n",
    "# 如果使用openai模型，会把提示词放在System Prompt中，不支持System Prompt的模型，会放在第一个用户会话中"
   ]
  },
  {
   "cell_type": "code",
   "execution_count": 5,
   "metadata": {},
   "outputs": [
    {
     "name": "stdout",
     "output_type": "stream",
     "text": [
      "客官，您好！很高兴为您服务。有什么可以帮到您的吗？"
     ]
    }
   ],
   "source": [
    "from bida  import PromptTemplate_Text\n",
    "from bida import ChatLLM\n",
    "\n",
    "def my_stream_process_data(data):\n",
    "    print(data, end=\"\", flush=True)\n",
    "\n",
    "# 动态替换提示词，使用四对{}包括\n",
    "context = \"客官\"\n",
    "tp = PromptTemplate_Text(\n",
    "    \"你是一个客服机器人，请使用“{{{{username}}}}”来称呼提问的用户。\", \n",
    "    username=context\n",
    "    )\n",
    "\n",
    "llm = ChatLLM(\n",
    "    model_type=\"aliyun\", \n",
    "    prompt_template=tp, \n",
    "    stream_callback=my_stream_process_data\n",
    "    )\n",
    "\n",
    "result = llm.chat(\"给我打个招呼\")"
   ]
  },
  {
   "cell_type": "markdown",
   "metadata": {},
   "source": [
    "- 自定义提示词模板"
   ]
  },
  {
   "cell_type": "code",
   "execution_count": 11,
   "metadata": {},
   "outputs": [
    {
     "name": "stdout",
     "output_type": "stream",
     "text": [
      "你好！我是人工智能客服助理，可以帮助您解决各种问题。有什么我可以帮助您的吗？"
     ]
    }
   ],
   "source": [
    "from bida import PromptTemplateBase\n",
    "\n",
    "class DemoPromptTemplate(PromptTemplateBase):\n",
    "    '''\n",
    "    一个演示模板类\n",
    "    '''\n",
    "    main_prompt =  '''你的名字是：人工智能客服助理，会帮您解决各种问题。'''\n",
    "\n",
    "# 创建实例\n",
    "demoPT = DemoPromptTemplate()\n",
    "\n",
    "from bida import ChatLLM\n",
    "\n",
    "def my_stream_process_data(data):\n",
    "    print(data, end=\"\", flush=True)\n",
    "\n",
    "llm = ChatLLM(\n",
    "    model_type=\"openai\", \n",
    "    prompt_template=demoPT,          \n",
    "    )\n",
    "\n",
    "result = llm.chat(\"你好，你是谁？\", my_stream_process_data)"
   ]
  },
  {
   "cell_type": "code",
   "execution_count": 12,
   "metadata": {},
   "outputs": [
    {
     "data": {
      "text/plain": [
       "{\n",
       "    \"id\": \"4aec3c77-2ab5-4d50-9087-535a1cfcdb25\",\n",
       "    \"model_type\": \"openai\",\n",
       "    \"title\": \"你好，你是谁？\",\n",
       "    \"persist_time\": null,\n",
       "    \"messages\": [\n",
       "        {\n",
       "            \"id\": \"252b63fe-e542-4487-9313-f69cc999d53d\",\n",
       "            \"role\": \"system\",\n",
       "            \"content\": \"你的名字是：人工智能客服助理，会帮您解决各种问题。\",\n",
       "            \"display_content\": \"你的名字是：人工智能客服助理，会帮您解决各种问题。\",\n",
       "            \"name\": null,\n",
       "            \"function_call\": null,\n",
       "            \"tokens\": 29,\n",
       "            \"start_time\": \"2023-09-11T09:49:44.451408\",\n",
       "            \"end_time\": \"2023-09-11T09:49:44.451408\",\n",
       "            \"category\": \"llm\",\n",
       "            \"status\": \"completed\",\n",
       "            \"link_message_id\": null,\n",
       "            \"update_time\": \"2023-09-11T09:49:44.451408\"\n",
       "        },\n",
       "        {\n",
       "            \"id\": \"7b133f92-40e1-4f1e-871e-80064ebef507\",\n",
       "            \"role\": \"user\",\n",
       "            \"content\": \"你好，你是谁？\",\n",
       "            \"display_content\": \"你好，你是谁？\",\n",
       "            \"name\": null,\n",
       "            \"function_call\": null,\n",
       "            \"tokens\": 8,\n",
       "            \"start_time\": \"2023-09-11T09:49:44.451408\",\n",
       "            \"end_time\": \"2023-09-11T09:49:44.451408\",\n",
       "            \"category\": \"llm\",\n",
       "            \"status\": \"completed\",\n",
       "            \"link_message_id\": null,\n",
       "            \"update_time\": \"2023-09-11T09:49:47.051264\"\n",
       "        },\n",
       "        {\n",
       "            \"id\": \"447c256e-81d7-4e00-a0bf-6291fb2841c6\",\n",
       "            \"role\": \"assistant\",\n",
       "            \"content\": \"你好！我是人工智能客服助理，可以帮助您解决各种问题。有什么我可以帮助您的吗？\",\n",
       "            \"display_content\": \"你好！我是人工智能客服助理，可以帮助您解决各种问题。有什么我可以帮助您的吗？\",\n",
       "            \"name\": null,\n",
       "            \"function_call\": null,\n",
       "            \"tokens\": 45,\n",
       "            \"start_time\": \"2023-09-11T09:49:45.623633\",\n",
       "            \"end_time\": \"2023-09-11T09:49:47.051264\",\n",
       "            \"category\": \"llm\",\n",
       "            \"status\": \"completed\",\n",
       "            \"link_message_id\": null,\n",
       "            \"update_time\": \"2023-09-11T09:49:47.051264\"\n",
       "        }\n",
       "    ]\n",
       "}"
      ]
     },
     "execution_count": 12,
     "metadata": {},
     "output_type": "execute_result"
    }
   ],
   "source": [
    "# 打印聊天历史\n",
    "llm.conversation"
   ]
  },
  {
   "cell_type": "markdown",
   "metadata": {},
   "source": [
    "- 按模型设定不同的提示词"
   ]
  },
  {
   "cell_type": "code",
   "execution_count": 1,
   "metadata": {},
   "outputs": [],
   "source": [
    "from bida import PromptTemplateBase\n",
    "\n",
    "class DemoPromptTemplate(PromptTemplateBase):\n",
    "    '''\n",
    "    一个演示模板类\n",
    "    '''\n",
    "\n",
    "    main_prompt =  '''你的名字是：人工智能客服助理，会帮您解决各种问题。'''\n",
    "\n",
    "    @PromptTemplateBase.using_model(model_type=\"openai\")\n",
    "    def openai_prompt(self):\n",
    "        return \"你的名字是：OpenAI的智能客服助理，会帮您解决各种问题。\"\n",
    "\n",
    "    @PromptTemplateBase.using_model(model_type=\"baidu\", model_name=\"ernie-bot-turbo\")\n",
    "    def vicuna_prompt(self):\n",
    "        return \"你的名字是：百度最turbo的智能客服助理，会帮您解决各种问题。\"\n",
    "    \n",
    "    @PromptTemplateBase.using_model(model_type=\"baidu\")\n",
    "    def vicuna2_prompt(self):\n",
    "        return \"你的名字是：百度的智能客服助理，会帮您解决各种问题。\"\n",
    "\n",
    "demoPT = DemoPromptTemplate()"
   ]
  },
  {
   "cell_type": "code",
   "execution_count": 2,
   "metadata": {},
   "outputs": [
    {
     "name": "stdout",
     "output_type": "stream",
     "text": [
      "你好！我是OpenAI的智能客服助理。我可以帮助您解答各种问题和提供相关的帮助。请告诉我您需要什么样的帮助。"
     ]
    }
   ],
   "source": [
    "from bida import ChatLLM\n",
    "\n",
    "def my_stream_process_data(data):\n",
    "    print(data, end=\"\", flush=True)\n",
    "\n",
    "llm = ChatLLM(\n",
    "    model_type=\"openai\", \n",
    "    prompt_template=demoPT,          \n",
    "    )\n",
    "\n",
    "result = llm.chat(\"你好，你是谁？\", my_stream_process_data)"
   ]
  },
  {
   "cell_type": "code",
   "execution_count": 3,
   "metadata": {},
   "outputs": [
    {
     "name": "stdout",
     "output_type": "stream",
     "text": [
      "你好，我是百度公司开发的文心一言，英文名是ERNIE Bot，可以协助你完成范围广泛的任务并提供有关各种主题的信息，比如回答问题，提供定义和解释及建议。如果你有任何问题，请随时向我提问。"
     ]
    }
   ],
   "source": [
    "from bida import ChatLLM\n",
    "\n",
    "def my_stream_process_data(data):\n",
    "    print(data, end=\"\", flush=True)\n",
    "\n",
    "llm = ChatLLM(\n",
    "    model_type=\"baidu\", \n",
    "    prompt_template=demoPT,          \n",
    "    )\n",
    "\n",
    "result = llm.chat(\"你好，你是谁？\", my_stream_process_data)"
   ]
  },
  {
   "cell_type": "code",
   "execution_count": 4,
   "metadata": {},
   "outputs": [
    {
     "name": "stdout",
     "output_type": "stream",
     "text": [
      "我是百度最turbo的智能客服助理，我的目的是帮助您解决问题。"
     ]
    }
   ],
   "source": [
    "from bida import ChatLLM\n",
    "\n",
    "def my_stream_process_data(data):\n",
    "    print(data, end=\"\", flush=True)\n",
    "\n",
    "llm = ChatLLM(\n",
    "    model_type=\"baidu\", \n",
    "    model_name=\"ernie-bot-turbo\",\n",
    "    prompt_template=demoPT,          \n",
    "    )\n",
    "\n",
    "result = llm.chat(\"你好，你是谁？\", my_stream_process_data)"
   ]
  }
 ],
 "metadata": {
  "kernelspec": {
   "display_name": "Python 3",
   "language": "python",
   "name": "python3"
  },
  "language_info": {
   "codemirror_mode": {
    "name": "ipython",
    "version": 3
   },
   "file_extension": ".py",
   "mimetype": "text/x-python",
   "name": "python",
   "nbconvert_exporter": "python",
   "pygments_lexer": "ipython3",
   "version": "3.11.0"
  },
  "orig_nbformat": 4
 },
 "nbformat": 4,
 "nbformat_minor": 2
}
